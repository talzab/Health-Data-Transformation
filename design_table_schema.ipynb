{
    "metadata": {
        "kernelspec": {
            "name": "SQL",
            "display_name": "SQL",
            "language": "sql"
        },
        "language_info": {
            "name": "sql",
            "version": ""
        }
    },
    "nbformat_minor": 2,
    "nbformat": 4,
    "cells": [
        {
            "cell_type": "code",
            "source": [
                "CREATE TABLE Hospitals (\r\n",
                "    hospital_pk VARCHAR(255) PRIMARY KEY,  \r\n",
                "    hospital_name VARCHAR(255) NOT NULL\r\n",
                ");"
            ],
            "metadata": {
                "azdata_cell_guid": "3b19abd3-b6c5-4405-994f-c89229d6ed57",
                "language": "sql",
                "tags": []
            },
            "outputs": [
                {
                    "output_type": "display_data",
                    "data": {
                        "text/html": "Commands completed successfully"
                    },
                    "metadata": {}
                },
                {
                    "output_type": "display_data",
                    "data": {
                        "text/html": "Total execution time: 00:00:00.039"
                    },
                    "metadata": {}
                }
            ],
            "execution_count": 2
        },
        {
            "cell_type": "code",
            "source": [
                "CREATE TABLE HospitalLocations (\r\n",
                "    location_id SERIAL PRIMARY KEY,\r\n",
                "    hospital_fk VARCHAR(255) REFERENCES Hospitals(hospital_pk),\r\n",
                "    state CHAR(2), \r\n",
                "    address VARCHAR(255),\r\n",
                "    city VARCHAR(255),\r\n",
                "    zip VARCHAR(10), \r\n",
                "    fips_code VARCHAR(10),\r\n",
                "    geocoded_hospital_address VARCHAR(50)\r\n",
                ");"
            ],
            "metadata": {
                "language": "sql",
                "azdata_cell_guid": "acbcb792-443c-4118-aa63-5018b9623dbb"
            },
            "outputs": [
                {
                    "output_type": "display_data",
                    "data": {
                        "text/html": "Commands completed successfully"
                    },
                    "metadata": {}
                },
                {
                    "output_type": "display_data",
                    "data": {
                        "text/html": "Total execution time: 00:00:00.033"
                    },
                    "metadata": {}
                }
            ],
            "execution_count": 3
        },
        {
            "cell_type": "code",
            "source": [
                "CREATE TABLE HospitalBedInformation (\r\n",
                "    bed_info_id SERIAL PRIMARY KEY,\r\n",
                "    hospital_fk VARCHAR(255) REFERENCES Hospitals(hospital_pk),\r\n",
                "    collection_week DATE,\r\n",
                "    all_adult_hospital_beds_7_day_avg FLOAT, \r\n",
                "    all_pediatric_inpatient_beds_7_day_avg FLOAT, \r\n",
                "    all_adult_hospital_inpatient_bed_occupied_7_day_coverage FLOAT,\r\n",
                "    all_pediatric_inpatient_bed_occupied_7_day_avg FLOAT, \r\n",
                "    total_icu_beds_7_day_avg FLOAT, \r\n",
                "    icu_beds_used_7_day_avg FLOAT, \r\n",
                "    inpatient_beds_used_covid_7_day_avg FLOAT, \r\n",
                "    staffed_icu_adult_patients_confirmed_covid_7_day_avg FLOAT\r\n",
                ");"
            ],
            "metadata": {
                "language": "sql",
                "azdata_cell_guid": "1d516128-7503-4bcb-93f8-bb18f192666f"
            },
            "outputs": [
                {
                    "output_type": "display_data",
                    "data": {
                        "text/html": "Commands completed successfully"
                    },
                    "metadata": {}
                },
                {
                    "output_type": "display_data",
                    "data": {
                        "text/html": "Total execution time: 00:00:00.020"
                    },
                    "metadata": {}
                }
            ],
            "execution_count": 4
        },
        {
            "cell_type": "code",
            "source": [
                "CREATE TABLE HospitalQualityInformation (\r\n",
                "    quality_id SERIAL PRIMARY KEY,\r\n",
                "    facility_id VARCHAR(255),\r\n",
                "    hospital_overall_rating FLOAT CHECK (hospital_overall_rating >= 0),\r\n",
                "    emergency_services BOOLEAN, \r\n",
                "    hospital_type VARCHAR(255),\r\n",
                "    hospital_ownership VARCHAR(255), \r\n",
                "    data_date DATE\r\n",
                ");"
            ],
            "metadata": {
                "language": "sql",
                "azdata_cell_guid": "049088c2-0765-42b7-a33a-434afece265b"
            },
            "outputs": [
                {
                    "output_type": "display_data",
                    "data": {
                        "text/html": "Commands completed successfully"
                    },
                    "metadata": {}
                },
                {
                    "output_type": "display_data",
                    "data": {
                        "text/html": "Total execution time: 00:00:00.035"
                    },
                    "metadata": {}
                }
            ],
            "execution_count": 2
        }
    ]
}
